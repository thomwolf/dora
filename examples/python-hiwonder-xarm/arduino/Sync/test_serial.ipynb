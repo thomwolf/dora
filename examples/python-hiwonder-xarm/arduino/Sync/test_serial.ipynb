{
 "cells": [
  {
   "cell_type": "code",
   "execution_count": 26,
   "metadata": {},
   "outputs": [],
   "source": [
    "import serial \n",
    "import time \n",
    "import struct\n",
    "arduino = serial.Serial(port='/dev/tty.usbserial-120', baudrate=115200, timeout=.1)"
   ]
  },
  {
   "cell_type": "code",
   "execution_count": 27,
   "metadata": {},
   "outputs": [],
   "source": [
    "def read(line_length=13, max_tests=100):\n",
    "   \"\"\" Read a line from the serial port and return it. If the line is not the expected length, try again up to max_tests times.\n",
    "\n",
    "   :param line_length: the expected length of the line\n",
    "   :param max_tests: the maximum number of times to try reading the line\n",
    "   :return: the line read from the serial port\n",
    "   \"\"\"\n",
    "   arduino.reset_input_buffer()  # flush the input buffer\n",
    "   _ = arduino.readline()  # dump the first reading\n",
    "   data, tests = \"\", 0\n",
    "   while len(data) != line_length and tests < max_tests:\n",
    "      data = arduino.readline()  # read a line\n",
    "   return data"
   ]
  },
  {
   "cell_type": "code",
   "execution_count": 28,
   "metadata": {},
   "outputs": [
    {
     "name": "stdout",
     "output_type": "stream",
     "text": [
      "[403, 504, 538, 668, 402, 367]\n",
      "[403, 504, 537, 668, 402, 368]\n",
      "[403, 504, 535, 666, 401, 367]\n",
      "[403, 504, 535, 666, 401, 367]\n",
      "[403, 504, 535, 666, 402, 367]\n",
      "[403, 507, 535, 667, 403, 367]\n",
      "[403, 504, 536, 667, 403, 367]\n",
      "[403, 504, 534, 667, 403, 367]\n",
      "[403, 504, 535, 667, 403, 367]\n",
      "[403, 504, 536, 667, 401, 367]\n"
     ]
    },
    {
     "ename": "",
     "evalue": "",
     "output_type": "error",
     "traceback": [
      "\u001b[1;31mLe noyau s’est bloqué lors de l’exécution du code dans une cellule active ou une cellule précédente. \n",
      "\u001b[1;31mVeuillez vérifier le code dans la ou les cellules pour identifier une cause possible de l’échec. \n",
      "\u001b[1;31mCliquez <a href='https://aka.ms/vscodeJupyterKernelCrash'>ici</a> pour plus d’informations. \n",
      "\u001b[1;31mPour plus d’informations, consultez Jupyter <a href='command:jupyter.viewOutput'>log</a>."
     ]
    }
   ],
   "source": [
    "for _ in range(10): \n",
    "   time.sleep(0.001)\n",
    "   value = read()\n",
    "   pos = [struct.unpack('<H', value[i*2:i*2+2])[0] for i in range(6)]\n",
    "   print(pos) # printing the value"
   ]
  },
  {
   "cell_type": "code",
   "execution_count": null,
   "metadata": {},
   "outputs": [],
   "source": []
  }
 ],
 "metadata": {
  "kernelspec": {
   "display_name": "lerobot",
   "language": "python",
   "name": "python3"
  },
  "language_info": {
   "codemirror_mode": {
    "name": "ipython",
    "version": 3
   },
   "file_extension": ".py",
   "mimetype": "text/x-python",
   "name": "python",
   "nbconvert_exporter": "python",
   "pygments_lexer": "ipython3",
   "version": "3.10.14"
  }
 },
 "nbformat": 4,
 "nbformat_minor": 2
}
